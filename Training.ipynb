{
 "cells": [
  {
   "cell_type": "markdown",
   "id": "5a3bef42",
   "metadata": {},
   "source": [
    "# Code for training of model"
   ]
  },
  {
   "cell_type": "markdown",
   "id": "2924fcdf",
   "metadata": {},
   "source": [
    "## 1. Loading of dependencies and the dataset"
   ]
  },
  {
   "cell_type": "code",
   "execution_count": 33,
   "id": "fc15292a",
   "metadata": {},
   "outputs": [
    {
     "name": "stdout",
     "output_type": "stream",
     "text": [
      "All modules have been imported successfully.\n"
     ]
    }
   ],
   "source": [
    "# Libraries and imports required\n",
    "\n",
    "try:\n",
    "    import numpy as np\n",
    "    import pandas as pd\n",
    "    import matplotlib.pyplot as plt\n",
    "    import seaborn as sns\n",
    "\n",
    "    # Scikit-learn libraries\n",
    "    from sklearn.model_selection import train_test_split\n",
    "    from sklearn.tree import DecisionTreeClassifier\n",
    "    from sklearn.metrics import classification_report,confusion_matrix\n",
    "    from sklearn import tree\n",
    "    \n",
    "    #Pickle\n",
    "    import pickle\n",
    "\n",
    "    # For inlining of plots\n",
    "    %matplotlib inline\n",
    "\n",
    "except:\n",
    "    print(\"An error occurred while importing modules. Please verify the presence and/or compatibility of all dependencies.\")\n",
    "    \n",
    "else:\n",
    "    print(\"All modules have been imported successfully.\")"
   ]
  },
  {
   "cell_type": "code",
   "execution_count": 34,
   "id": "abcab99c",
   "metadata": {},
   "outputs": [
    {
     "data": {
      "text/html": [
       "<div>\n",
       "<style scoped>\n",
       "    .dataframe tbody tr th:only-of-type {\n",
       "        vertical-align: middle;\n",
       "    }\n",
       "\n",
       "    .dataframe tbody tr th {\n",
       "        vertical-align: top;\n",
       "    }\n",
       "\n",
       "    .dataframe thead th {\n",
       "        text-align: right;\n",
       "    }\n",
       "</style>\n",
       "<table border=\"1\" class=\"dataframe\">\n",
       "  <thead>\n",
       "    <tr style=\"text-align: right;\">\n",
       "      <th></th>\n",
       "      <th>Disease</th>\n",
       "      <th>Symptom_1</th>\n",
       "      <th>Symptom_2</th>\n",
       "      <th>Symptom_3</th>\n",
       "      <th>Symptom_4</th>\n",
       "      <th>Symptom_5</th>\n",
       "      <th>Symptom_6</th>\n",
       "      <th>Symptom_7</th>\n",
       "      <th>Symptom_8</th>\n",
       "      <th>Symptom_9</th>\n",
       "      <th>Symptom_10</th>\n",
       "      <th>Symptom_11</th>\n",
       "      <th>Symptom_12</th>\n",
       "      <th>Symptom_13</th>\n",
       "      <th>Symptom_14</th>\n",
       "      <th>Symptom_15</th>\n",
       "      <th>Symptom_16</th>\n",
       "      <th>Symptom_17</th>\n",
       "    </tr>\n",
       "  </thead>\n",
       "  <tbody>\n",
       "    <tr>\n",
       "      <th>814</th>\n",
       "      <td>Impetigo</td>\n",
       "      <td>skin_rash</td>\n",
       "      <td>blister</td>\n",
       "      <td>red_sore_around_nose</td>\n",
       "      <td>yellow_crust_ooze</td>\n",
       "      <td>NaN</td>\n",
       "      <td>NaN</td>\n",
       "      <td>NaN</td>\n",
       "      <td>NaN</td>\n",
       "      <td>NaN</td>\n",
       "      <td>NaN</td>\n",
       "      <td>NaN</td>\n",
       "      <td>NaN</td>\n",
       "      <td>NaN</td>\n",
       "      <td>NaN</td>\n",
       "      <td>NaN</td>\n",
       "      <td>NaN</td>\n",
       "      <td>NaN</td>\n",
       "    </tr>\n",
       "    <tr>\n",
       "      <th>4671</th>\n",
       "      <td>Urinary tract infection</td>\n",
       "      <td>burning_micturition</td>\n",
       "      <td>bladder_discomfort</td>\n",
       "      <td>foul_smell_of urine</td>\n",
       "      <td>continuous_feel_of_urine</td>\n",
       "      <td>NaN</td>\n",
       "      <td>NaN</td>\n",
       "      <td>NaN</td>\n",
       "      <td>NaN</td>\n",
       "      <td>NaN</td>\n",
       "      <td>NaN</td>\n",
       "      <td>NaN</td>\n",
       "      <td>NaN</td>\n",
       "      <td>NaN</td>\n",
       "      <td>NaN</td>\n",
       "      <td>NaN</td>\n",
       "      <td>NaN</td>\n",
       "      <td>NaN</td>\n",
       "    </tr>\n",
       "    <tr>\n",
       "      <th>2233</th>\n",
       "      <td>Typhoid</td>\n",
       "      <td>chills</td>\n",
       "      <td>vomiting</td>\n",
       "      <td>fatigue</td>\n",
       "      <td>high_fever</td>\n",
       "      <td>headache</td>\n",
       "      <td>nausea</td>\n",
       "      <td>constipation</td>\n",
       "      <td>diarrhoea</td>\n",
       "      <td>toxic_look_(typhos)</td>\n",
       "      <td>belly_pain</td>\n",
       "      <td>NaN</td>\n",
       "      <td>NaN</td>\n",
       "      <td>NaN</td>\n",
       "      <td>NaN</td>\n",
       "      <td>NaN</td>\n",
       "      <td>NaN</td>\n",
       "      <td>NaN</td>\n",
       "    </tr>\n",
       "    <tr>\n",
       "      <th>354</th>\n",
       "      <td>Arthritis</td>\n",
       "      <td>muscle_weakness</td>\n",
       "      <td>stiff_neck</td>\n",
       "      <td>movement_stiffness</td>\n",
       "      <td>painful_walking</td>\n",
       "      <td>NaN</td>\n",
       "      <td>NaN</td>\n",
       "      <td>NaN</td>\n",
       "      <td>NaN</td>\n",
       "      <td>NaN</td>\n",
       "      <td>NaN</td>\n",
       "      <td>NaN</td>\n",
       "      <td>NaN</td>\n",
       "      <td>NaN</td>\n",
       "      <td>NaN</td>\n",
       "      <td>NaN</td>\n",
       "      <td>NaN</td>\n",
       "      <td>NaN</td>\n",
       "    </tr>\n",
       "    <tr>\n",
       "      <th>2262</th>\n",
       "      <td>Hepatitis C</td>\n",
       "      <td>yellowish_skin</td>\n",
       "      <td>nausea</td>\n",
       "      <td>loss_of_appetite</td>\n",
       "      <td>yellowing_of_eyes</td>\n",
       "      <td>family_history</td>\n",
       "      <td>NaN</td>\n",
       "      <td>NaN</td>\n",
       "      <td>NaN</td>\n",
       "      <td>NaN</td>\n",
       "      <td>NaN</td>\n",
       "      <td>NaN</td>\n",
       "      <td>NaN</td>\n",
       "      <td>NaN</td>\n",
       "      <td>NaN</td>\n",
       "      <td>NaN</td>\n",
       "      <td>NaN</td>\n",
       "      <td>NaN</td>\n",
       "    </tr>\n",
       "  </tbody>\n",
       "</table>\n",
       "</div>"
      ],
      "text/plain": [
       "                      Disease             Symptom_1            Symptom_2  \\\n",
       "814                  Impetigo             skin_rash              blister   \n",
       "4671  Urinary tract infection   burning_micturition   bladder_discomfort   \n",
       "2233                  Typhoid                chills             vomiting   \n",
       "354                 Arthritis       muscle_weakness           stiff_neck   \n",
       "2262              Hepatitis C        yellowish_skin               nausea   \n",
       "\n",
       "                  Symptom_3                  Symptom_4        Symptom_5  \\\n",
       "814    red_sore_around_nose          yellow_crust_ooze              NaN   \n",
       "4671    foul_smell_of urine   continuous_feel_of_urine              NaN   \n",
       "2233                fatigue                 high_fever         headache   \n",
       "354      movement_stiffness            painful_walking              NaN   \n",
       "2262       loss_of_appetite          yellowing_of_eyes   family_history   \n",
       "\n",
       "     Symptom_6      Symptom_7   Symptom_8             Symptom_9   Symptom_10  \\\n",
       "814        NaN            NaN         NaN                   NaN          NaN   \n",
       "4671       NaN            NaN         NaN                   NaN          NaN   \n",
       "2233    nausea   constipation   diarrhoea   toxic_look_(typhos)   belly_pain   \n",
       "354        NaN            NaN         NaN                   NaN          NaN   \n",
       "2262       NaN            NaN         NaN                   NaN          NaN   \n",
       "\n",
       "     Symptom_11 Symptom_12 Symptom_13 Symptom_14 Symptom_15 Symptom_16  \\\n",
       "814         NaN        NaN        NaN        NaN        NaN        NaN   \n",
       "4671        NaN        NaN        NaN        NaN        NaN        NaN   \n",
       "2233        NaN        NaN        NaN        NaN        NaN        NaN   \n",
       "354         NaN        NaN        NaN        NaN        NaN        NaN   \n",
       "2262        NaN        NaN        NaN        NaN        NaN        NaN   \n",
       "\n",
       "     Symptom_17  \n",
       "814         NaN  \n",
       "4671        NaN  \n",
       "2233        NaN  \n",
       "354         NaN  \n",
       "2262        NaN  "
      ]
     },
     "execution_count": 34,
     "metadata": {},
     "output_type": "execute_result"
    }
   ],
   "source": [
    "# Importing Dataset as df\n",
    "df = pd.read_csv('Database/dataset.csv')\n",
    "\n",
    "# Randomization of sequence of data values\n",
    "df = df.sample(frac=1)\n",
    "\n",
    "# Glimpse of dataset\n",
    "df.head()"
   ]
  },
  {
   "cell_type": "code",
   "execution_count": 35,
   "id": "09505dff",
   "metadata": {},
   "outputs": [
    {
     "data": {
      "text/html": [
       "<div>\n",
       "<style scoped>\n",
       "    .dataframe tbody tr th:only-of-type {\n",
       "        vertical-align: middle;\n",
       "    }\n",
       "\n",
       "    .dataframe tbody tr th {\n",
       "        vertical-align: top;\n",
       "    }\n",
       "\n",
       "    .dataframe thead th {\n",
       "        text-align: right;\n",
       "    }\n",
       "</style>\n",
       "<table border=\"1\" class=\"dataframe\">\n",
       "  <thead>\n",
       "    <tr style=\"text-align: right;\">\n",
       "      <th></th>\n",
       "      <th>Disease</th>\n",
       "      <th>Symptom_1</th>\n",
       "      <th>Symptom_2</th>\n",
       "      <th>Symptom_3</th>\n",
       "      <th>Symptom_4</th>\n",
       "      <th>Symptom_5</th>\n",
       "      <th>Symptom_6</th>\n",
       "      <th>Symptom_7</th>\n",
       "      <th>Symptom_8</th>\n",
       "      <th>Symptom_9</th>\n",
       "      <th>Symptom_10</th>\n",
       "      <th>Symptom_11</th>\n",
       "      <th>Symptom_12</th>\n",
       "      <th>Symptom_13</th>\n",
       "      <th>Symptom_14</th>\n",
       "      <th>Symptom_15</th>\n",
       "      <th>Symptom_16</th>\n",
       "      <th>Symptom_17</th>\n",
       "    </tr>\n",
       "  </thead>\n",
       "  <tbody>\n",
       "    <tr>\n",
       "      <th>count</th>\n",
       "      <td>4920</td>\n",
       "      <td>4920</td>\n",
       "      <td>4920</td>\n",
       "      <td>4920</td>\n",
       "      <td>4572</td>\n",
       "      <td>3714</td>\n",
       "      <td>2934</td>\n",
       "      <td>2268</td>\n",
       "      <td>1944</td>\n",
       "      <td>1692</td>\n",
       "      <td>1512</td>\n",
       "      <td>1194</td>\n",
       "      <td>744</td>\n",
       "      <td>504</td>\n",
       "      <td>306</td>\n",
       "      <td>240</td>\n",
       "      <td>192</td>\n",
       "      <td>72</td>\n",
       "    </tr>\n",
       "    <tr>\n",
       "      <th>unique</th>\n",
       "      <td>41</td>\n",
       "      <td>34</td>\n",
       "      <td>48</td>\n",
       "      <td>54</td>\n",
       "      <td>50</td>\n",
       "      <td>38</td>\n",
       "      <td>32</td>\n",
       "      <td>26</td>\n",
       "      <td>21</td>\n",
       "      <td>22</td>\n",
       "      <td>21</td>\n",
       "      <td>18</td>\n",
       "      <td>11</td>\n",
       "      <td>8</td>\n",
       "      <td>4</td>\n",
       "      <td>3</td>\n",
       "      <td>3</td>\n",
       "      <td>1</td>\n",
       "    </tr>\n",
       "    <tr>\n",
       "      <th>top</th>\n",
       "      <td>Impetigo</td>\n",
       "      <td>vomiting</td>\n",
       "      <td>vomiting</td>\n",
       "      <td>fatigue</td>\n",
       "      <td>high_fever</td>\n",
       "      <td>headache</td>\n",
       "      <td>nausea</td>\n",
       "      <td>abdominal_pain</td>\n",
       "      <td>abdominal_pain</td>\n",
       "      <td>yellowing_of_eyes</td>\n",
       "      <td>yellowing_of_eyes</td>\n",
       "      <td>irritability</td>\n",
       "      <td>malaise</td>\n",
       "      <td>stomach_bleeding</td>\n",
       "      <td>chest_pain</td>\n",
       "      <td>chest_pain</td>\n",
       "      <td>blood_in_sputum</td>\n",
       "      <td>muscle_pain</td>\n",
       "    </tr>\n",
       "    <tr>\n",
       "      <th>freq</th>\n",
       "      <td>120</td>\n",
       "      <td>822</td>\n",
       "      <td>870</td>\n",
       "      <td>726</td>\n",
       "      <td>378</td>\n",
       "      <td>348</td>\n",
       "      <td>390</td>\n",
       "      <td>264</td>\n",
       "      <td>276</td>\n",
       "      <td>228</td>\n",
       "      <td>198</td>\n",
       "      <td>120</td>\n",
       "      <td>126</td>\n",
       "      <td>72</td>\n",
       "      <td>96</td>\n",
       "      <td>144</td>\n",
       "      <td>72</td>\n",
       "      <td>72</td>\n",
       "    </tr>\n",
       "  </tbody>\n",
       "</table>\n",
       "</div>"
      ],
      "text/plain": [
       "         Disease  Symptom_1  Symptom_2 Symptom_3    Symptom_4  Symptom_5  \\\n",
       "count       4920       4920       4920      4920         4572       3714   \n",
       "unique        41         34         48        54           50         38   \n",
       "top     Impetigo   vomiting   vomiting   fatigue   high_fever   headache   \n",
       "freq         120        822        870       726          378        348   \n",
       "\n",
       "       Symptom_6        Symptom_7        Symptom_8           Symptom_9  \\\n",
       "count       2934             2268             1944                1692   \n",
       "unique        32               26               21                  22   \n",
       "top       nausea   abdominal_pain   abdominal_pain   yellowing_of_eyes   \n",
       "freq         390              264              276                 228   \n",
       "\n",
       "                Symptom_10     Symptom_11 Symptom_12         Symptom_13  \\\n",
       "count                 1512           1194        744                504   \n",
       "unique                  21             18         11                  8   \n",
       "top      yellowing_of_eyes   irritability    malaise   stomach_bleeding   \n",
       "freq                   198            120        126                 72   \n",
       "\n",
       "         Symptom_14   Symptom_15        Symptom_16    Symptom_17  \n",
       "count           306          240               192            72  \n",
       "unique            4            3                 3             1  \n",
       "top      chest_pain   chest_pain   blood_in_sputum   muscle_pain  \n",
       "freq             96          144                72            72  "
      ]
     },
     "execution_count": 35,
     "metadata": {},
     "output_type": "execute_result"
    }
   ],
   "source": [
    "# Dataset stats\n",
    "df.describe()"
   ]
  },
  {
   "cell_type": "markdown",
   "id": "b7fe9bf2",
   "metadata": {},
   "source": [
    "## 2. Exploratory Data Analytics"
   ]
  },
  {
   "cell_type": "code",
   "execution_count": 36,
   "id": "e69ff1d3",
   "metadata": {},
   "outputs": [
    {
     "data": {
      "text/plain": [
       "Symptom_1        0\n",
       "Symptom_2        0\n",
       "Symptom_3        0\n",
       "Symptom_4      348\n",
       "Symptom_5     1206\n",
       "Symptom_6     1986\n",
       "Symptom_7     2652\n",
       "Symptom_8     2976\n",
       "Symptom_9     3228\n",
       "Symptom_10    3408\n",
       "Symptom_11    3726\n",
       "Symptom_12    4176\n",
       "Symptom_13    4416\n",
       "Symptom_14    4614\n",
       "Symptom_15    4680\n",
       "Symptom_16    4728\n",
       "Symptom_17    4848\n",
       "dtype: int64"
      ]
     },
     "execution_count": 36,
     "metadata": {},
     "output_type": "execute_result"
    }
   ],
   "source": [
    "# Determining number of null values by symptoms\n",
    "nulls = df.isna().sum()[1:]\n",
    "nulls"
   ]
  },
  {
   "cell_type": "code",
   "execution_count": 37,
   "id": "283d83d8",
   "metadata": {},
   "outputs": [
    {
     "data": {
      "image/png": "[encoded data removed]",
      "text/plain": [
       "<Figure size 1400x560 with 1 Axes>"
      ]
     },
     "metadata": {
      "needs_background": "light"
     },
     "output_type": "display_data"
    }
   ],
   "source": [
    "# Plot of null values\n",
    "plt.figure(figsize=(10,4), dpi=140)\n",
    "plt.plot(nulls.index, nulls.values)\n",
    "plt.xticks(nulls.index, nulls.index, rotation = 45, horizontalalignment = 'right')\n",
    "plt.title('Ratio of Null values')\n",
    "plt.xlabel('columns')\n",
    "plt.margins(0.1)\n",
    "plt.savefig('Ratio of null values graph.png')"
   ]
  },
  {
   "cell_type": "markdown",
   "id": "6af70f55",
   "metadata": {},
   "source": [
    "## 3. Preprocessing and Feature Engineering"
   ]
  },
  {
   "cell_type": "code",
   "execution_count": 38,
   "id": "1e91f32e",
   "metadata": {},
   "outputs": [
    {
     "data": {
      "text/html": [
       "<div>\n",
       "<style scoped>\n",
       "    .dataframe tbody tr th:only-of-type {\n",
       "        vertical-align: middle;\n",
       "    }\n",
       "\n",
       "    .dataframe tbody tr th {\n",
       "        vertical-align: top;\n",
       "    }\n",
       "\n",
       "    .dataframe thead th {\n",
       "        text-align: right;\n",
       "    }\n",
       "</style>\n",
       "<table border=\"1\" class=\"dataframe\">\n",
       "  <thead>\n",
       "    <tr style=\"text-align: right;\">\n",
       "      <th></th>\n",
       "      <th>Disease</th>\n",
       "      <th>Symptom_1</th>\n",
       "      <th>Symptom_2</th>\n",
       "      <th>Symptom_3</th>\n",
       "      <th>Symptom_4</th>\n",
       "      <th>Symptom_5</th>\n",
       "      <th>Symptom_6</th>\n",
       "      <th>Symptom_7</th>\n",
       "      <th>Symptom_8</th>\n",
       "      <th>Symptom_9</th>\n",
       "      <th>Symptom_10</th>\n",
       "      <th>Symptom_11</th>\n",
       "      <th>Symptom_12</th>\n",
       "      <th>Symptom_13</th>\n",
       "      <th>Symptom_14</th>\n",
       "      <th>Symptom_15</th>\n",
       "      <th>Symptom_16</th>\n",
       "      <th>Symptom_17</th>\n",
       "    </tr>\n",
       "  </thead>\n",
       "  <tbody>\n",
       "    <tr>\n",
       "      <th>814</th>\n",
       "      <td>Impetigo</td>\n",
       "      <td>skin_rash</td>\n",
       "      <td>blister</td>\n",
       "      <td>red_sore_around_nose</td>\n",
       "      <td>yellow_crust_ooze</td>\n",
       "      <td>NaN</td>\n",
       "      <td>NaN</td>\n",
       "      <td>NaN</td>\n",
       "      <td>NaN</td>\n",
       "      <td>NaN</td>\n",
       "      <td>NaN</td>\n",
       "      <td>NaN</td>\n",
       "      <td>NaN</td>\n",
       "      <td>NaN</td>\n",
       "      <td>NaN</td>\n",
       "      <td>NaN</td>\n",
       "      <td>NaN</td>\n",
       "      <td>NaN</td>\n",
       "    </tr>\n",
       "    <tr>\n",
       "      <th>4671</th>\n",
       "      <td>Urinary tract infection</td>\n",
       "      <td>burning_micturition</td>\n",
       "      <td>bladder_discomfort</td>\n",
       "      <td>foul_smell_ofurine</td>\n",
       "      <td>continuous_feel_of_urine</td>\n",
       "      <td>NaN</td>\n",
       "      <td>NaN</td>\n",
       "      <td>NaN</td>\n",
       "      <td>NaN</td>\n",
       "      <td>NaN</td>\n",
       "      <td>NaN</td>\n",
       "      <td>NaN</td>\n",
       "      <td>NaN</td>\n",
       "      <td>NaN</td>\n",
       "      <td>NaN</td>\n",
       "      <td>NaN</td>\n",
       "      <td>NaN</td>\n",
       "      <td>NaN</td>\n",
       "    </tr>\n",
       "    <tr>\n",
       "      <th>2233</th>\n",
       "      <td>Typhoid</td>\n",
       "      <td>chills</td>\n",
       "      <td>vomiting</td>\n",
       "      <td>fatigue</td>\n",
       "      <td>high_fever</td>\n",
       "      <td>headache</td>\n",
       "      <td>nausea</td>\n",
       "      <td>constipation</td>\n",
       "      <td>diarrhoea</td>\n",
       "      <td>toxic_look_(typhos)</td>\n",
       "      <td>belly_pain</td>\n",
       "      <td>NaN</td>\n",
       "      <td>NaN</td>\n",
       "      <td>NaN</td>\n",
       "      <td>NaN</td>\n",
       "      <td>NaN</td>\n",
       "      <td>NaN</td>\n",
       "      <td>NaN</td>\n",
       "    </tr>\n",
       "    <tr>\n",
       "      <th>354</th>\n",
       "      <td>Arthritis</td>\n",
       "      <td>muscle_weakness</td>\n",
       "      <td>stiff_neck</td>\n",
       "      <td>movement_stiffness</td>\n",
       "      <td>painful_walking</td>\n",
       "      <td>NaN</td>\n",
       "      <td>NaN</td>\n",
       "      <td>NaN</td>\n",
       "      <td>NaN</td>\n",
       "      <td>NaN</td>\n",
       "      <td>NaN</td>\n",
       "      <td>NaN</td>\n",
       "      <td>NaN</td>\n",
       "      <td>NaN</td>\n",
       "      <td>NaN</td>\n",
       "      <td>NaN</td>\n",
       "      <td>NaN</td>\n",
       "      <td>NaN</td>\n",
       "    </tr>\n",
       "    <tr>\n",
       "      <th>2262</th>\n",
       "      <td>Hepatitis C</td>\n",
       "      <td>yellowish_skin</td>\n",
       "      <td>nausea</td>\n",
       "      <td>loss_of_appetite</td>\n",
       "      <td>yellowing_of_eyes</td>\n",
       "      <td>family_history</td>\n",
       "      <td>NaN</td>\n",
       "      <td>NaN</td>\n",
       "      <td>NaN</td>\n",
       "      <td>NaN</td>\n",
       "      <td>NaN</td>\n",
       "      <td>NaN</td>\n",
       "      <td>NaN</td>\n",
       "      <td>NaN</td>\n",
       "      <td>NaN</td>\n",
       "      <td>NaN</td>\n",
       "      <td>NaN</td>\n",
       "      <td>NaN</td>\n",
       "    </tr>\n",
       "  </tbody>\n",
       "</table>\n",
       "</div>"
      ],
      "text/plain": [
       "                      Disease            Symptom_1           Symptom_2  \\\n",
       "814                  Impetigo            skin_rash             blister   \n",
       "4671  Urinary tract infection  burning_micturition  bladder_discomfort   \n",
       "2233                  Typhoid               chills            vomiting   \n",
       "354                 Arthritis      muscle_weakness          stiff_neck   \n",
       "2262              Hepatitis C       yellowish_skin              nausea   \n",
       "\n",
       "                 Symptom_3                 Symptom_4       Symptom_5  \\\n",
       "814   red_sore_around_nose         yellow_crust_ooze             NaN   \n",
       "4671    foul_smell_ofurine  continuous_feel_of_urine             NaN   \n",
       "2233               fatigue                high_fever        headache   \n",
       "354     movement_stiffness           painful_walking             NaN   \n",
       "2262      loss_of_appetite         yellowing_of_eyes  family_history   \n",
       "\n",
       "     Symptom_6     Symptom_7  Symptom_8            Symptom_9  Symptom_10  \\\n",
       "814        NaN           NaN        NaN                  NaN         NaN   \n",
       "4671       NaN           NaN        NaN                  NaN         NaN   \n",
       "2233    nausea  constipation  diarrhoea  toxic_look_(typhos)  belly_pain   \n",
       "354        NaN           NaN        NaN                  NaN         NaN   \n",
       "2262       NaN           NaN        NaN                  NaN         NaN   \n",
       "\n",
       "     Symptom_11 Symptom_12 Symptom_13 Symptom_14 Symptom_15 Symptom_16  \\\n",
       "814         NaN        NaN        NaN        NaN        NaN        NaN   \n",
       "4671        NaN        NaN        NaN        NaN        NaN        NaN   \n",
       "2233        NaN        NaN        NaN        NaN        NaN        NaN   \n",
       "354         NaN        NaN        NaN        NaN        NaN        NaN   \n",
       "2262        NaN        NaN        NaN        NaN        NaN        NaN   \n",
       "\n",
       "     Symptom_17  \n",
       "814         NaN  \n",
       "4671        NaN  \n",
       "2233        NaN  \n",
       "354         NaN  \n",
       "2262        NaN  "
      ]
     },
     "execution_count": 38,
     "metadata": {},
     "output_type": "execute_result"
    }
   ],
   "source": [
    "# Removal of blank spaces\n",
    "for col in df.columns:\n",
    "    \n",
    "    # We would like to retain the space present in the disease column to later retrieve precautions and description\n",
    "    # from database easily\n",
    "    if col != 'Disease':\n",
    "        df[col] = df[col].str.replace(' ', '')\n",
    "    \n",
    "df.head()"
   ]
  },
  {
   "cell_type": "code",
   "execution_count": 39,
   "id": "5bab8375",
   "metadata": {},
   "outputs": [],
   "source": [
    "df_symptom = pd.read_csv('Database/Symptom-severity.csv')"
   ]
  },
  {
   "cell_type": "code",
   "execution_count": 40,
   "id": "3094d55b",
   "metadata": {},
   "outputs": [
    {
     "data": {
      "text/html": [
       "<div>\n",
       "<style scoped>\n",
       "    .dataframe tbody tr th:only-of-type {\n",
       "        vertical-align: middle;\n",
       "    }\n",
       "\n",
       "    .dataframe tbody tr th {\n",
       "        vertical-align: top;\n",
       "    }\n",
       "\n",
       "    .dataframe thead th {\n",
       "        text-align: right;\n",
       "    }\n",
       "</style>\n",
       "<table border=\"1\" class=\"dataframe\">\n",
       "  <thead>\n",
       "    <tr style=\"text-align: right;\">\n",
       "      <th></th>\n",
       "      <th>Symptom</th>\n",
       "      <th>weight</th>\n",
       "    </tr>\n",
       "  </thead>\n",
       "  <tbody>\n",
       "    <tr>\n",
       "      <th>0</th>\n",
       "      <td>itching</td>\n",
       "      <td>1</td>\n",
       "    </tr>\n",
       "    <tr>\n",
       "      <th>1</th>\n",
       "      <td>skin_rash</td>\n",
       "      <td>3</td>\n",
       "    </tr>\n",
       "    <tr>\n",
       "      <th>2</th>\n",
       "      <td>nodal_skin_eruptions</td>\n",
       "      <td>4</td>\n",
       "    </tr>\n",
       "    <tr>\n",
       "      <th>3</th>\n",
       "      <td>continuous_sneezing</td>\n",
       "      <td>4</td>\n",
       "    </tr>\n",
       "    <tr>\n",
       "      <th>4</th>\n",
       "      <td>shivering</td>\n",
       "      <td>5</td>\n",
       "    </tr>\n",
       "  </tbody>\n",
       "</table>\n",
       "</div>"
      ],
      "text/plain": [
       "                Symptom  weight\n",
       "0               itching       1\n",
       "1             skin_rash       3\n",
       "2  nodal_skin_eruptions       4\n",
       "3   continuous_sneezing       4\n",
       "4             shivering       5"
      ]
     },
     "execution_count": 40,
     "metadata": {},
     "output_type": "execute_result"
    }
   ],
   "source": [
    "df_symptom.head()"
   ]
  },
  {
   "cell_type": "code",
   "execution_count": 41,
   "id": "5674aace",
   "metadata": {},
   "outputs": [
    {
     "data": {
      "text/html": [
       "<div>\n",
       "<style scoped>\n",
       "    .dataframe tbody tr th:only-of-type {\n",
       "        vertical-align: middle;\n",
       "    }\n",
       "\n",
       "    .dataframe tbody tr th {\n",
       "        vertical-align: top;\n",
       "    }\n",
       "\n",
       "    .dataframe thead th {\n",
       "        text-align: right;\n",
       "    }\n",
       "</style>\n",
       "<table border=\"1\" class=\"dataframe\">\n",
       "  <thead>\n",
       "    <tr style=\"text-align: right;\">\n",
       "      <th></th>\n",
       "      <th>Symptom</th>\n",
       "      <th>weight</th>\n",
       "      <th>Code</th>\n",
       "    </tr>\n",
       "  </thead>\n",
       "  <tbody>\n",
       "    <tr>\n",
       "      <th>0</th>\n",
       "      <td>itching</td>\n",
       "      <td>1</td>\n",
       "      <td>1</td>\n",
       "    </tr>\n",
       "    <tr>\n",
       "      <th>1</th>\n",
       "      <td>skin_rash</td>\n",
       "      <td>3</td>\n",
       "      <td>2</td>\n",
       "    </tr>\n",
       "    <tr>\n",
       "      <th>2</th>\n",
       "      <td>nodal_skin_eruptions</td>\n",
       "      <td>4</td>\n",
       "      <td>3</td>\n",
       "    </tr>\n",
       "    <tr>\n",
       "      <th>3</th>\n",
       "      <td>continuous_sneezing</td>\n",
       "      <td>4</td>\n",
       "      <td>4</td>\n",
       "    </tr>\n",
       "    <tr>\n",
       "      <th>4</th>\n",
       "      <td>shivering</td>\n",
       "      <td>5</td>\n",
       "      <td>5</td>\n",
       "    </tr>\n",
       "  </tbody>\n",
       "</table>\n",
       "</div>"
      ],
      "text/plain": [
       "                Symptom  weight  Code\n",
       "0               itching       1     1\n",
       "1             skin_rash       3     2\n",
       "2  nodal_skin_eruptions       4     3\n",
       "3   continuous_sneezing       4     4\n",
       "4             shivering       5     5"
      ]
     },
     "execution_count": 41,
     "metadata": {},
     "output_type": "execute_result"
    }
   ],
   "source": [
    "# Assigning a numeral (code) to each symptom\n",
    "df_symptom['Code'] = list(range(1,len(df_symptom) + 1))\n",
    "df_symptom.head()"
   ]
  },
  {
   "cell_type": "code",
   "execution_count": 42,
   "id": "25122911",
   "metadata": {},
   "outputs": [
    {
     "data": {
      "text/html": [
       "<div>\n",
       "<style scoped>\n",
       "    .dataframe tbody tr th:only-of-type {\n",
       "        vertical-align: middle;\n",
       "    }\n",
       "\n",
       "    .dataframe tbody tr th {\n",
       "        vertical-align: top;\n",
       "    }\n",
       "\n",
       "    .dataframe thead th {\n",
       "        text-align: right;\n",
       "    }\n",
       "</style>\n",
       "<table border=\"1\" class=\"dataframe\">\n",
       "  <thead>\n",
       "    <tr style=\"text-align: right;\">\n",
       "      <th></th>\n",
       "      <th>Disease</th>\n",
       "      <th>Symptom_1</th>\n",
       "      <th>Symptom_2</th>\n",
       "      <th>Symptom_3</th>\n",
       "      <th>Symptom_4</th>\n",
       "      <th>Symptom_5</th>\n",
       "      <th>Symptom_6</th>\n",
       "      <th>Symptom_7</th>\n",
       "      <th>Symptom_8</th>\n",
       "      <th>Symptom_9</th>\n",
       "      <th>Symptom_10</th>\n",
       "      <th>Symptom_11</th>\n",
       "      <th>Symptom_12</th>\n",
       "      <th>Symptom_13</th>\n",
       "      <th>Symptom_14</th>\n",
       "      <th>Symptom_15</th>\n",
       "      <th>Symptom_16</th>\n",
       "      <th>Symptom_17</th>\n",
       "    </tr>\n",
       "  </thead>\n",
       "  <tbody>\n",
       "    <tr>\n",
       "      <th>0</th>\n",
       "      <td>Impetigo</td>\n",
       "      <td>2</td>\n",
       "      <td>130</td>\n",
       "      <td>131</td>\n",
       "      <td>132</td>\n",
       "      <td>NaN</td>\n",
       "      <td>NaN</td>\n",
       "      <td>NaN</td>\n",
       "      <td>NaN</td>\n",
       "      <td>NaN</td>\n",
       "      <td>NaN</td>\n",
       "      <td>NaN</td>\n",
       "      <td>NaN</td>\n",
       "      <td>NaN</td>\n",
       "      <td>NaN</td>\n",
       "      <td>NaN</td>\n",
       "      <td>NaN</td>\n",
       "      <td>NaN</td>\n",
       "    </tr>\n",
       "    <tr>\n",
       "      <th>1</th>\n",
       "      <td>Urinary tract infection</td>\n",
       "      <td>13</td>\n",
       "      <td>90</td>\n",
       "      <td>91</td>\n",
       "      <td>92</td>\n",
       "      <td>NaN</td>\n",
       "      <td>NaN</td>\n",
       "      <td>NaN</td>\n",
       "      <td>NaN</td>\n",
       "      <td>NaN</td>\n",
       "      <td>NaN</td>\n",
       "      <td>NaN</td>\n",
       "      <td>NaN</td>\n",
       "      <td>NaN</td>\n",
       "      <td>NaN</td>\n",
       "      <td>NaN</td>\n",
       "      <td>NaN</td>\n",
       "      <td>NaN</td>\n",
       "    </tr>\n",
       "    <tr>\n",
       "      <th>2</th>\n",
       "      <td>Typhoid</td>\n",
       "      <td>6</td>\n",
       "      <td>12</td>\n",
       "      <td>15</td>\n",
       "      <td>26</td>\n",
       "      <td>32</td>\n",
       "      <td>35</td>\n",
       "      <td>39</td>\n",
       "      <td>41</td>\n",
       "      <td>95</td>\n",
       "      <td>101</td>\n",
       "      <td>NaN</td>\n",
       "      <td>NaN</td>\n",
       "      <td>NaN</td>\n",
       "      <td>NaN</td>\n",
       "      <td>NaN</td>\n",
       "      <td>NaN</td>\n",
       "      <td>NaN</td>\n",
       "    </tr>\n",
       "    <tr>\n",
       "      <th>3</th>\n",
       "      <td>Arthritis</td>\n",
       "      <td>81</td>\n",
       "      <td>82</td>\n",
       "      <td>84</td>\n",
       "      <td>122</td>\n",
       "      <td>NaN</td>\n",
       "      <td>NaN</td>\n",
       "      <td>NaN</td>\n",
       "      <td>NaN</td>\n",
       "      <td>NaN</td>\n",
       "      <td>NaN</td>\n",
       "      <td>NaN</td>\n",
       "      <td>NaN</td>\n",
       "      <td>NaN</td>\n",
       "      <td>NaN</td>\n",
       "      <td>NaN</td>\n",
       "      <td>NaN</td>\n",
       "      <td>NaN</td>\n",
       "    </tr>\n",
       "    <tr>\n",
       "      <th>4</th>\n",
       "      <td>Hepatitis C</td>\n",
       "      <td>33</td>\n",
       "      <td>35</td>\n",
       "      <td>36</td>\n",
       "      <td>44</td>\n",
       "      <td>107</td>\n",
       "      <td>NaN</td>\n",
       "      <td>NaN</td>\n",
       "      <td>NaN</td>\n",
       "      <td>NaN</td>\n",
       "      <td>NaN</td>\n",
       "      <td>NaN</td>\n",
       "      <td>NaN</td>\n",
       "      <td>NaN</td>\n",
       "      <td>NaN</td>\n",
       "      <td>NaN</td>\n",
       "      <td>NaN</td>\n",
       "      <td>NaN</td>\n",
       "    </tr>\n",
       "  </tbody>\n",
       "</table>\n",
       "</div>"
      ],
      "text/plain": [
       "                   Disease Symptom_1 Symptom_2 Symptom_3 Symptom_4 Symptom_5  \\\n",
       "0                 Impetigo         2       130       131       132       NaN   \n",
       "1  Urinary tract infection        13        90        91        92       NaN   \n",
       "2                  Typhoid         6        12        15        26        32   \n",
       "3                Arthritis        81        82        84       122       NaN   \n",
       "4              Hepatitis C        33        35        36        44       107   \n",
       "\n",
       "  Symptom_6 Symptom_7 Symptom_8 Symptom_9 Symptom_10 Symptom_11 Symptom_12  \\\n",
       "0       NaN       NaN       NaN       NaN        NaN        NaN        NaN   \n",
       "1       NaN       NaN       NaN       NaN        NaN        NaN        NaN   \n",
       "2        35        39        41        95        101        NaN        NaN   \n",
       "3       NaN       NaN       NaN       NaN        NaN        NaN        NaN   \n",
       "4       NaN       NaN       NaN       NaN        NaN        NaN        NaN   \n",
       "\n",
       "  Symptom_13 Symptom_14 Symptom_15 Symptom_16 Symptom_17  \n",
       "0        NaN        NaN        NaN        NaN        NaN  \n",
       "1        NaN        NaN        NaN        NaN        NaN  \n",
       "2        NaN        NaN        NaN        NaN        NaN  \n",
       "3        NaN        NaN        NaN        NaN        NaN  \n",
       "4        NaN        NaN        NaN        NaN        NaN  "
      ]
     },
     "execution_count": 42,
     "metadata": {},
     "output_type": "execute_result"
    }
   ],
   "source": [
    "# Encoding of symptoms\n",
    "vals = df.values\n",
    "symptoms = df_symptom['Symptom'].unique()\n",
    "\n",
    "for i in range(len(symptoms)):\n",
    "    vals[vals == symptoms[i]] = df_symptom[df_symptom['Symptom'] == symptoms[i]]['Code'].values[0]\n",
    "\n",
    "df_processed = pd.DataFrame(vals, columns=df.columns)\n",
    "df_processed.head()"
   ]
  },
  {
   "cell_type": "code",
   "execution_count": 43,
   "id": "e9b58631",
   "metadata": {
    "scrolled": true
   },
   "outputs": [],
   "source": [
    "# Helper function for encoding values -- To be encapsulated in pickle file\n",
    "\n",
    "codes = dict(zip(df_symptom['Symptom'],df_symptom['Code']))\n",
    "def label_encoder(symptoms):\n",
    "    encoded_values = []\n",
    "    for symptom in symptoms:\n",
    "        encoded_values.append(codes[symptom])\n",
    "    n = len(encoded_values)\n",
    "    if n < 17:\n",
    "        encoded_values += [0]*(17-n)\n",
    "    elif n > 17:\n",
    "        encoded_values = encoded_values[:17]\n",
    "    else:\n",
    "        pass\n",
    "    return encoded_values"
   ]
  },
  {
   "cell_type": "code",
   "execution_count": 44,
   "id": "7e0a32de",
   "metadata": {},
   "outputs": [
    {
     "name": "stdout",
     "output_type": "stream",
     "text": [
      "[1, 2]\n"
     ]
    }
   ],
   "source": [
    "print([1,2,3][:2])"
   ]
  },
  {
   "cell_type": "code",
   "execution_count": 45,
   "id": "d0cf8764",
   "metadata": {
    "scrolled": true
   },
   "outputs": [
    {
     "data": {
      "text/html": [
       "<div>\n",
       "<style scoped>\n",
       "    .dataframe tbody tr th:only-of-type {\n",
       "        vertical-align: middle;\n",
       "    }\n",
       "\n",
       "    .dataframe tbody tr th {\n",
       "        vertical-align: top;\n",
       "    }\n",
       "\n",
       "    .dataframe thead th {\n",
       "        text-align: right;\n",
       "    }\n",
       "</style>\n",
       "<table border=\"1\" class=\"dataframe\">\n",
       "  <thead>\n",
       "    <tr style=\"text-align: right;\">\n",
       "      <th></th>\n",
       "      <th>Disease</th>\n",
       "      <th>Symptom_1</th>\n",
       "      <th>Symptom_2</th>\n",
       "      <th>Symptom_3</th>\n",
       "      <th>Symptom_4</th>\n",
       "      <th>Symptom_5</th>\n",
       "      <th>Symptom_6</th>\n",
       "      <th>Symptom_7</th>\n",
       "      <th>Symptom_8</th>\n",
       "      <th>Symptom_9</th>\n",
       "      <th>Symptom_10</th>\n",
       "      <th>Symptom_11</th>\n",
       "      <th>Symptom_12</th>\n",
       "      <th>Symptom_13</th>\n",
       "      <th>Symptom_14</th>\n",
       "      <th>Symptom_15</th>\n",
       "      <th>Symptom_16</th>\n",
       "      <th>Symptom_17</th>\n",
       "    </tr>\n",
       "  </thead>\n",
       "  <tbody>\n",
       "    <tr>\n",
       "      <th>0</th>\n",
       "      <td>Impetigo</td>\n",
       "      <td>2</td>\n",
       "      <td>130</td>\n",
       "      <td>131</td>\n",
       "      <td>132</td>\n",
       "      <td>0</td>\n",
       "      <td>0</td>\n",
       "      <td>0</td>\n",
       "      <td>0</td>\n",
       "      <td>0</td>\n",
       "      <td>0</td>\n",
       "      <td>0</td>\n",
       "      <td>0</td>\n",
       "      <td>0</td>\n",
       "      <td>0</td>\n",
       "      <td>0</td>\n",
       "      <td>0</td>\n",
       "      <td>0</td>\n",
       "    </tr>\n",
       "    <tr>\n",
       "      <th>1</th>\n",
       "      <td>Urinary tract infection</td>\n",
       "      <td>13</td>\n",
       "      <td>90</td>\n",
       "      <td>91</td>\n",
       "      <td>92</td>\n",
       "      <td>0</td>\n",
       "      <td>0</td>\n",
       "      <td>0</td>\n",
       "      <td>0</td>\n",
       "      <td>0</td>\n",
       "      <td>0</td>\n",
       "      <td>0</td>\n",
       "      <td>0</td>\n",
       "      <td>0</td>\n",
       "      <td>0</td>\n",
       "      <td>0</td>\n",
       "      <td>0</td>\n",
       "      <td>0</td>\n",
       "    </tr>\n",
       "    <tr>\n",
       "      <th>2</th>\n",
       "      <td>Typhoid</td>\n",
       "      <td>6</td>\n",
       "      <td>12</td>\n",
       "      <td>15</td>\n",
       "      <td>26</td>\n",
       "      <td>32</td>\n",
       "      <td>35</td>\n",
       "      <td>39</td>\n",
       "      <td>41</td>\n",
       "      <td>95</td>\n",
       "      <td>101</td>\n",
       "      <td>0</td>\n",
       "      <td>0</td>\n",
       "      <td>0</td>\n",
       "      <td>0</td>\n",
       "      <td>0</td>\n",
       "      <td>0</td>\n",
       "      <td>0</td>\n",
       "    </tr>\n",
       "    <tr>\n",
       "      <th>3</th>\n",
       "      <td>Arthritis</td>\n",
       "      <td>81</td>\n",
       "      <td>82</td>\n",
       "      <td>84</td>\n",
       "      <td>122</td>\n",
       "      <td>0</td>\n",
       "      <td>0</td>\n",
       "      <td>0</td>\n",
       "      <td>0</td>\n",
       "      <td>0</td>\n",
       "      <td>0</td>\n",
       "      <td>0</td>\n",
       "      <td>0</td>\n",
       "      <td>0</td>\n",
       "      <td>0</td>\n",
       "      <td>0</td>\n",
       "      <td>0</td>\n",
       "      <td>0</td>\n",
       "    </tr>\n",
       "    <tr>\n",
       "      <th>4</th>\n",
       "      <td>Hepatitis C</td>\n",
       "      <td>33</td>\n",
       "      <td>35</td>\n",
       "      <td>36</td>\n",
       "      <td>44</td>\n",
       "      <td>107</td>\n",
       "      <td>0</td>\n",
       "      <td>0</td>\n",
       "      <td>0</td>\n",
       "      <td>0</td>\n",
       "      <td>0</td>\n",
       "      <td>0</td>\n",
       "      <td>0</td>\n",
       "      <td>0</td>\n",
       "      <td>0</td>\n",
       "      <td>0</td>\n",
       "      <td>0</td>\n",
       "      <td>0</td>\n",
       "    </tr>\n",
       "  </tbody>\n",
       "</table>\n",
       "</div>"
      ],
      "text/plain": [
       "                   Disease  Symptom_1  Symptom_2  Symptom_3  Symptom_4  \\\n",
       "0                 Impetigo          2        130        131        132   \n",
       "1  Urinary tract infection         13         90         91         92   \n",
       "2                  Typhoid          6         12         15         26   \n",
       "3                Arthritis         81         82         84        122   \n",
       "4              Hepatitis C         33         35         36         44   \n",
       "\n",
       "   Symptom_5  Symptom_6  Symptom_7  Symptom_8  Symptom_9  Symptom_10  \\\n",
       "0          0          0          0          0          0           0   \n",
       "1          0          0          0          0          0           0   \n",
       "2         32         35         39         41         95         101   \n",
       "3          0          0          0          0          0           0   \n",
       "4        107          0          0          0          0           0   \n",
       "\n",
       "   Symptom_11  Symptom_12  Symptom_13  Symptom_14  Symptom_15  Symptom_16  \\\n",
       "0           0           0           0           0           0           0   \n",
       "1           0           0           0           0           0           0   \n",
       "2           0           0           0           0           0           0   \n",
       "3           0           0           0           0           0           0   \n",
       "4           0           0           0           0           0           0   \n",
       "\n",
       "   Symptom_17  \n",
       "0           0  \n",
       "1           0  \n",
       "2           0  \n",
       "3           0  \n",
       "4           0  "
      ]
     },
     "execution_count": 45,
     "metadata": {},
     "output_type": "execute_result"
    }
   ],
   "source": [
    "# The cleaned dataset\n",
    "df_processed = df_processed.fillna(0)\n",
    "df_processed.head()"
   ]
  },
  {
   "cell_type": "markdown",
   "id": "a1f403fd",
   "metadata": {},
   "source": [
    "## 4. Model training"
   ]
  },
  {
   "cell_type": "code",
   "execution_count": 46,
   "id": "47fff8a2",
   "metadata": {},
   "outputs": [],
   "source": [
    "# Extracting attributes and target values\n",
    "data = df_processed.iloc[:,1:].values\n",
    "labels = df['Disease'].values"
   ]
  },
  {
   "cell_type": "code",
   "execution_count": 47,
   "id": "add72437",
   "metadata": {},
   "outputs": [],
   "source": [
    "X_train, X_test, y_train, y_test = train_test_split(data, \n",
    "                                                    labels, \n",
    "                                                    test_size=0.6, \n",
    "                                                    random_state=42)"
   ]
  },
  {
   "cell_type": "code",
   "execution_count": null,
   "id": "4836a247",
   "metadata": {
    "scrolled": false
   },
   "outputs": [],
   "source": []
  },
  {
   "cell_type": "code",
   "execution_count": null,
   "id": "503c62c5",
   "metadata": {},
   "outputs": [],
   "source": []
  },
  {
   "cell_type": "code",
   "execution_count": 48,
   "id": "f96910e3",
   "metadata": {},
   "outputs": [
    {
     "name": "stdout",
     "output_type": "stream",
     "text": [
      "Classifier created successfully!\n"
     ]
    }
   ],
   "source": [
    "# Decision Tree Classifier Object\n",
    "try:\n",
    "    dtree = DecisionTreeClassifier()\n",
    "except:\n",
    "    print(\"Error occurred. Please check scikit version\")\n",
    "else:\n",
    "    print(\"Classifier created successfully!\")"
   ]
  },
  {
   "cell_type": "code",
   "execution_count": 49,
   "id": "321fa183",
   "metadata": {},
   "outputs": [
    {
     "data": {
      "text/plain": [
       "DecisionTreeClassifier()"
      ]
     },
     "execution_count": 49,
     "metadata": {},
     "output_type": "execute_result"
    }
   ],
   "source": [
    "# Model Training\n",
    "dtree.fit(X_train,y_train)"
   ]
  },
  {
   "cell_type": "code",
   "execution_count": 50,
   "id": "6a05b473",
   "metadata": {},
   "outputs": [],
   "source": [
    "# Prediction\n",
    "predictions = dtree.predict(X_test)"
   ]
  },
  {
   "cell_type": "code",
   "execution_count": 51,
   "id": "e6d9bc9f",
   "metadata": {},
   "outputs": [
    {
     "name": "stdout",
     "output_type": "stream",
     "text": [
      "                                         precision    recall  f1-score   support\n",
      "\n",
      "(vertigo) Paroymsal  Positional Vertigo       1.00      1.00      1.00        75\n",
      "                                   AIDS       1.00      1.00      1.00        80\n",
      "                                   Acne       1.00      1.00      1.00        82\n",
      "                    Alcoholic hepatitis       1.00      1.00      1.00        80\n",
      "                                Allergy       1.00      1.00      1.00        68\n",
      "                              Arthritis       1.00      1.00      1.00        73\n",
      "                       Bronchial Asthma       1.00      1.00      1.00        65\n",
      "                   Cervical spondylosis       1.00      1.00      1.00        75\n",
      "                            Chicken pox       1.00      1.00      1.00        67\n",
      "                    Chronic cholestasis       1.00      1.00      1.00        78\n",
      "                            Common Cold       1.00      1.00      1.00        60\n",
      "                                 Dengue       1.00      1.00      1.00        74\n",
      "                              Diabetes        1.00      1.00      1.00        70\n",
      "           Dimorphic hemmorhoids(piles)       1.00      1.00      1.00        73\n",
      "                          Drug Reaction       1.00      1.00      1.00        77\n",
      "                       Fungal infection       1.00      1.00      1.00        71\n",
      "                                   GERD       1.00      1.00      1.00        82\n",
      "                        Gastroenteritis       1.00      1.00      1.00        61\n",
      "                           Heart attack       1.00      1.00      1.00        71\n",
      "                            Hepatitis B       1.00      1.00      1.00        67\n",
      "                            Hepatitis C       1.00      1.00      1.00        62\n",
      "                            Hepatitis D       1.00      1.00      1.00        71\n",
      "                            Hepatitis E       1.00      1.00      1.00        74\n",
      "                          Hypertension        1.00      1.00      1.00        71\n",
      "                        Hyperthyroidism       1.00      1.00      1.00        78\n",
      "                           Hypoglycemia       1.00      1.00      1.00        69\n",
      "                         Hypothyroidism       1.00      1.00      1.00        78\n",
      "                               Impetigo       1.00      1.00      1.00        69\n",
      "                               Jaundice       0.93      1.00      0.96        74\n",
      "                                Malaria       1.00      0.91      0.95        68\n",
      "                               Migraine       1.00      1.00      1.00        76\n",
      "                        Osteoarthristis       1.00      1.00      1.00        72\n",
      "           Paralysis (brain hemorrhage)       1.00      1.00      1.00        71\n",
      "                    Peptic ulcer diseae       1.00      1.00      1.00        63\n",
      "                              Pneumonia       1.00      1.00      1.00        71\n",
      "                              Psoriasis       1.00      1.00      1.00        73\n",
      "                           Tuberculosis       1.00      1.00      1.00        76\n",
      "                                Typhoid       1.00      1.00      1.00        70\n",
      "                Urinary tract infection       1.00      1.00      1.00        71\n",
      "                         Varicose veins       1.00      1.00      1.00        75\n",
      "                            hepatitis A       1.00      1.00      1.00        71\n",
      "\n",
      "                               accuracy                           1.00      2952\n",
      "                              macro avg       1.00      1.00      1.00      2952\n",
      "                           weighted avg       1.00      1.00      1.00      2952\n",
      "\n"
     ]
    }
   ],
   "source": [
    "# Classification Report\n",
    "print(classification_report(y_test,predictions))"
   ]
  },
  {
   "cell_type": "code",
   "execution_count": 24,
   "id": "b9c63d34",
   "metadata": {},
   "outputs": [
    {
     "data": {
      "text/plain": [
       "array(['Fungal infection'], dtype=object)"
      ]
     },
     "execution_count": 24,
     "metadata": {},
     "output_type": "execute_result"
    }
   ],
   "source": [
    "dtree.predict([label_encoder(\"nodal_skin_eruptions,itching,skin_rash,dischromic_patches\".split(\",\"))])"
   ]
  },
  {
   "cell_type": "code",
   "execution_count": 25,
   "id": "3f0468e8",
   "metadata": {},
   "outputs": [
    {
     "data": {
      "text/plain": [
       "[[3, 1, 2, 103, 0, 0, 0, 0, 0, 0, 0, 0, 0, 0, 0, 0, 0]]"
      ]
     },
     "execution_count": 25,
     "metadata": {},
     "output_type": "execute_result"
    }
   ],
   "source": [
    "[label_encoder(\"nodal_skin_eruptions,itching,skin_rash,dischromic_patches\".split(\",\"))]"
   ]
  },
  {
   "cell_type": "code",
   "execution_count": 27,
   "id": "003f7d5d",
   "metadata": {},
   "outputs": [
    {
     "data": {
      "text/plain": [
       "array(['GERD'], dtype=object)"
      ]
     },
     "execution_count": 27,
     "metadata": {},
     "output_type": "execute_result"
    }
   ],
   "source": [
    "dtree.predict([[103,3,2,1,0,0,0,0,0,0,0,0,0,0,0,0,0]])"
   ]
  },
  {
   "cell_type": "code",
   "execution_count": 20,
   "id": "110de032",
   "metadata": {},
   "outputs": [
    {
     "data": {
      "image/png": "[encoded data removed]",
      "text/plain": [
       "<Figure size 1800x1440 with 1 Axes>"
      ]
     },
     "metadata": {
      "needs_background": "light"
     },
     "output_type": "display_data"
    }
   ],
   "source": [
    "# Plot for decision tree thus obtained\n",
    "fig = plt.figure(figsize=(25,20))\n",
    "_ = tree.plot_tree(dtree, \n",
    "                   feature_names=list(df.columns[1:]),  \n",
    "                   class_names=df['Disease'].values,\n",
    "                   filled=True)\n",
    "plt.savefig('full-dtree-100.png')"
   ]
  },
  {
   "cell_type": "markdown",
   "id": "20de8b1d",
   "metadata": {},
   "source": [
    "## 5. Pickling the model"
   ]
  },
  {
   "cell_type": "code",
   "execution_count": 21,
   "id": "faa167cf",
   "metadata": {},
   "outputs": [
    {
     "data": {
      "text/plain": [
       "'\\n\\nFOR LOADING THE MODEL\\n=== ======= === =====\\n\\nwith open(\"data.pkl\",\"rb\") as file:\\n    data = pickle.load(file)\\n\\nmodel = data[\"model\"]\\ncodes = data[\"codes\"]\\nlabel_encoder = data[\"label_encoder\"]\\n\\npredictions = model.predict(label_encoder(inputs))\\n\\n'"
      ]
     },
     "execution_count": 21,
     "metadata": {},
     "output_type": "execute_result"
    }
   ],
   "source": [
    "# Saving the model for later use\n",
    "data = {\"model\":dtree,\"codes\":codes}\n",
    "with open(\"data.pkl\",\"wb\") as file:\n",
    "    pickle.dump(data,file)\n",
    "\n",
    "'''\n",
    "\n",
    "FOR LOADING THE MODEL\n",
    "=== ======= === =====\n",
    "\n",
    "with open(\"data.pkl\",\"rb\") as file:\n",
    "    data = pickle.load(file)\n",
    "\n",
    "model = data[\"model\"]\n",
    "codes = data[\"codes\"]\n",
    "label_encoder = data[\"label_encoder\"]\n",
    "\n",
    "predictions = model.predict(label_encoder(inputs))\n",
    "\n",
    "'''"
   ]
  },
  {
   "cell_type": "markdown",
   "id": "13805d9b",
   "metadata": {},
   "source": [
    "## Saved tests\n",
    "_Note: The following section retains the tests made as a part of experimentation. **Do not run the following blocks of code.**_"
   ]
  },
  {
   "cell_type": "markdown",
   "id": "479c23b0",
   "metadata": {},
   "source": [
    "### Training a Random Forest"
   ]
  },
  {
   "cell_type": "code",
   "execution_count": null,
   "id": "c2364a2f",
   "metadata": {},
   "outputs": [],
   "source": [
    "from sklearn.ensemble import RandomForestClassifier\n",
    "rfc = RandomForestClassifier(n_estimators = 3)\n",
    "rfc.fit(X_train, y_train)"
   ]
  },
  {
   "cell_type": "code",
   "execution_count": null,
   "id": "1b02df03",
   "metadata": {},
   "outputs": [],
   "source": [
    "rfc_pred = rfc.predict(X_test)"
   ]
  },
  {
   "cell_type": "code",
   "execution_count": null,
   "id": "9725520e",
   "metadata": {
    "scrolled": false
   },
   "outputs": [],
   "source": [
    "print(classification_report(y_test,rfc_pred))"
   ]
  },
  {
   "cell_type": "code",
   "execution_count": null,
   "id": "1812084e",
   "metadata": {},
   "outputs": [],
   "source": [
    "print(confusion_matrix(y_test,rfc_pred))"
   ]
  },
  {
   "cell_type": "code",
   "execution_count": null,
   "id": "d6470911",
   "metadata": {},
   "outputs": [],
   "source": [
    "'''\n",
    "MODEL TEST\n",
    "===== ====\n",
    "\n",
    "Test Case-\n",
    "Expected Result : Arthritis\n",
    "Symptoms- Pain, Stiffness, Swelling, Redness, Decreased range of motion\n",
    "Symptoms: [7,82,83,84,87,0,0,0,0,0,0,0,0,0,0,0,0]\n",
    "\n",
    "'''"
   ]
  },
  {
   "cell_type": "code",
   "execution_count": null,
   "id": "64bde2fd",
   "metadata": {},
   "outputs": [],
   "source": [
    "X_train.shape"
   ]
  },
  {
   "cell_type": "code",
   "execution_count": null,
   "id": "3eb9cd67",
   "metadata": {},
   "outputs": [],
   "source": [
    "y_test[0]"
   ]
  },
  {
   "cell_type": "code",
   "execution_count": null,
   "id": "48e3e08b",
   "metadata": {},
   "outputs": [],
   "source": [
    "test_pred = dtree.predict([[7,82,83,84,87,0,0,0,0,0,0,0,0,0,0,0,0]])\n",
    "print(test_pred)"
   ]
  },
  {
   "cell_type": "code",
   "execution_count": null,
   "id": "219b1a3a",
   "metadata": {},
   "outputs": [],
   "source": [
    "test_pred2 = dtree.predict([[25,7,3,89,88,87,0,0,0,0,0,0,0,0,0,0,0]])\n",
    "print(test_pred2)\n",
    "print(dtree.predict_proba([[25,7,3,89,88,87,0,0,0,0,0,0,0,0,0,0,0]]))"
   ]
  },
  {
   "cell_type": "code",
   "execution_count": 24,
   "id": "0a95e185",
   "metadata": {},
   "outputs": [
    {
     "data": {
      "text/plain": [
       "array(['Fungal infection'], dtype=object)"
      ]
     },
     "execution_count": 24,
     "metadata": {},
     "output_type": "execute_result"
    }
   ],
   "source": [
    "dtree.predict([label_encoder(\"itching,skin_rash,nodal_skin_eruptions,dischromic_patches\".split(\",\"))])\n"
   ]
  },
  {
   "cell_type": "code",
   "execution_count": 1,
   "id": "160d5a7c",
   "metadata": {},
   "outputs": [
    {
     "name": "stderr",
     "output_type": "stream",
     "text": [
      "C:\\Anaconda\\lib\\site-packages\\sklearn\\base.py:329: UserWarning: Trying to unpickle estimator DecisionTreeClassifier from version 0.24.2 when using version 1.0.2. This might lead to breaking code or invalid results. Use at your own risk. For more info please refer to:\n",
      "https://scikit-learn.org/stable/modules/model_persistence.html#security-maintainability-limitations\n",
      "  warnings.warn(\n"
     ]
    },
    {
     "data": {
      "text/plain": [
       "array(['Urinary tract infection'], dtype=object)"
      ]
     },
     "execution_count": 1,
     "metadata": {},
     "output_type": "execute_result"
    }
   ],
   "source": [
    "import pickle\n",
    "with open(\"data.pkl\",\"rb\") as file:\n",
    "    data = pickle.load(file)\n",
    "\n",
    "model = data[\"model\"]\n",
    "model.predict([[103, 3, 2, 1, 0, 0, 0, 0, 0, 0, 0, 0, 0, 0, 0, 0, 0]])"
   ]
  },
  {
   "cell_type": "markdown",
   "id": "05419d7d",
   "metadata": {},
   "source": [
    "## Testing word-comparison feature\n"
   ]
  },
  {
   "cell_type": "code",
   "execution_count": 1,
   "id": "507beb67",
   "metadata": {},
   "outputs": [
    {
     "ename": "ModuleNotFoundError",
     "evalue": "No module named 'scispacy'",
     "output_type": "error",
     "traceback": [
      "\u001b[1;31m---------------------------------------------------------------------------\u001b[0m",
      "\u001b[1;31mModuleNotFoundError\u001b[0m                       Traceback (most recent call last)",
      "\u001b[1;32mC:\\Users\\SHREYA~1\\AppData\\Local\\Temp/ipykernel_16280/3851498369.py\u001b[0m in \u001b[0;36m<module>\u001b[1;34m\u001b[0m\n\u001b[0;32m      1\u001b[0m \u001b[1;32mimport\u001b[0m \u001b[0mspacy\u001b[0m\u001b[1;33m\u001b[0m\u001b[1;33m\u001b[0m\u001b[0m\n\u001b[1;32m----> 2\u001b[1;33m \u001b[1;32mimport\u001b[0m \u001b[0mscispacy\u001b[0m\u001b[1;33m\u001b[0m\u001b[1;33m\u001b[0m\u001b[0m\n\u001b[0m",
      "\u001b[1;31mModuleNotFoundError\u001b[0m: No module named 'scispacy'"
     ]
    }
   ],
   "source": [
    "import spacy"
   ]
  },
  {
   "cell_type": "code",
   "execution_count": 3,
   "id": "9269a258",
   "metadata": {},
   "outputs": [],
   "source": [
    "nlp = spacy.load(\"en_core_web_md\")"
   ]
  },
  {
   "cell_type": "code",
   "execution_count": 4,
   "id": "0299a678",
   "metadata": {},
   "outputs": [
    {
     "name": "stdout",
     "output_type": "stream",
     "text": [
      "0.8932694311283732\n"
     ]
    }
   ],
   "source": [
    "print(nlp('nausea').similarity(nlp('vomitting')))"
   ]
  },
  {
   "cell_type": "code",
   "execution_count": 57,
   "id": "76347d1b",
   "metadata": {},
   "outputs": [
    {
     "data": {
      "text/html": [
       "<div>\n",
       "<style scoped>\n",
       "    .dataframe tbody tr th:only-of-type {\n",
       "        vertical-align: middle;\n",
       "    }\n",
       "\n",
       "    .dataframe tbody tr th {\n",
       "        vertical-align: top;\n",
       "    }\n",
       "\n",
       "    .dataframe thead th {\n",
       "        text-align: right;\n",
       "    }\n",
       "</style>\n",
       "<table border=\"1\" class=\"dataframe\">\n",
       "  <thead>\n",
       "    <tr style=\"text-align: right;\">\n",
       "      <th></th>\n",
       "      <th>Symptom</th>\n",
       "      <th>weight</th>\n",
       "    </tr>\n",
       "  </thead>\n",
       "  <tbody>\n",
       "    <tr>\n",
       "      <th>0</th>\n",
       "      <td>itching</td>\n",
       "      <td>1</td>\n",
       "    </tr>\n",
       "    <tr>\n",
       "      <th>1</th>\n",
       "      <td>skin_rash</td>\n",
       "      <td>3</td>\n",
       "    </tr>\n",
       "    <tr>\n",
       "      <th>2</th>\n",
       "      <td>nodal_skin_eruptions</td>\n",
       "      <td>4</td>\n",
       "    </tr>\n",
       "    <tr>\n",
       "      <th>3</th>\n",
       "      <td>continuous_sneezing</td>\n",
       "      <td>4</td>\n",
       "    </tr>\n",
       "    <tr>\n",
       "      <th>4</th>\n",
       "      <td>shivering</td>\n",
       "      <td>5</td>\n",
       "    </tr>\n",
       "  </tbody>\n",
       "</table>\n",
       "</div>"
      ],
      "text/plain": [
       "                Symptom  weight\n",
       "0               itching       1\n",
       "1             skin_rash       3\n",
       "2  nodal_skin_eruptions       4\n",
       "3   continuous_sneezing       4\n",
       "4             shivering       5"
      ]
     },
     "execution_count": 57,
     "metadata": {},
     "output_type": "execute_result"
    }
   ],
   "source": [
    "import numpy as np\n",
    "import pandas as pd\n",
    "\n",
    "df = pd.read_csv(\"Database/Symptom-severity.csv\")\n",
    "df.head()"
   ]
  },
  {
   "cell_type": "code",
   "execution_count": 60,
   "id": "38665290",
   "metadata": {},
   "outputs": [],
   "source": [
    "df['Symptom'] = df['Symptom'].str.replace(' ','')\n",
    "df['Symptom'] = df['Symptom'].str.replace('_',' ')"
   ]
  },
  {
   "cell_type": "code",
   "execution_count": 61,
   "id": "382bfe74",
   "metadata": {},
   "outputs": [
    {
     "data": {
      "text/html": [
       "<div>\n",
       "<style scoped>\n",
       "    .dataframe tbody tr th:only-of-type {\n",
       "        vertical-align: middle;\n",
       "    }\n",
       "\n",
       "    .dataframe tbody tr th {\n",
       "        vertical-align: top;\n",
       "    }\n",
       "\n",
       "    .dataframe thead th {\n",
       "        text-align: right;\n",
       "    }\n",
       "</style>\n",
       "<table border=\"1\" class=\"dataframe\">\n",
       "  <thead>\n",
       "    <tr style=\"text-align: right;\">\n",
       "      <th></th>\n",
       "      <th>Symptom</th>\n",
       "      <th>weight</th>\n",
       "    </tr>\n",
       "  </thead>\n",
       "  <tbody>\n",
       "    <tr>\n",
       "      <th>0</th>\n",
       "      <td>itching</td>\n",
       "      <td>1</td>\n",
       "    </tr>\n",
       "    <tr>\n",
       "      <th>1</th>\n",
       "      <td>skin rash</td>\n",
       "      <td>3</td>\n",
       "    </tr>\n",
       "    <tr>\n",
       "      <th>2</th>\n",
       "      <td>nodal skin eruptions</td>\n",
       "      <td>4</td>\n",
       "    </tr>\n",
       "    <tr>\n",
       "      <th>3</th>\n",
       "      <td>continuous sneezing</td>\n",
       "      <td>4</td>\n",
       "    </tr>\n",
       "    <tr>\n",
       "      <th>4</th>\n",
       "      <td>shivering</td>\n",
       "      <td>5</td>\n",
       "    </tr>\n",
       "  </tbody>\n",
       "</table>\n",
       "</div>"
      ],
      "text/plain": [
       "                Symptom  weight\n",
       "0               itching       1\n",
       "1             skin rash       3\n",
       "2  nodal skin eruptions       4\n",
       "3   continuous sneezing       4\n",
       "4             shivering       5"
      ]
     },
     "execution_count": 61,
     "metadata": {},
     "output_type": "execute_result"
    }
   ],
   "source": [
    "df.head()"
   ]
  },
  {
   "cell_type": "code",
   "execution_count": null,
   "id": "6d651308",
   "metadata": {},
   "outputs": [],
   "source": []
  },
  {
   "cell_type": "code",
   "execution_count": 99,
   "id": "70f50606",
   "metadata": {},
   "outputs": [
    {
     "name": "stdout",
     "output_type": "stream",
     "text": [
      "Enter symptom: stiffness\n",
      "{'itching': 0.501259017491758, 'skin rash': 0.4719122838565206, 'nodal skin eruptions': 0.3344844935810268, 'continuous sneezing': 0.5181864098768051, 'shivering': 0.5904352999200408, 'chills': 0.4957344838068389, 'joint pain': 0.594961571912094, 'stomach pain': 0.6307885304779616, 'acidity': 0.10596375947799795, 'ulcers on tongue': 0.4384387691786386, 'muscle wasting': 0.547866773731209, 'vomiting': 0.5760199780192419, 'burning micturition': 0.46640434448203566, 'spotting urination': 0.4046436796422037, 'fatigue': 1.0000000233302964, 'weight gain': 0.4855281026878852, 'anxiety': 0.6543119999619211, 'cold hands and feets': 0.3761234424215846, 'mood swings': 0.5306785800333835, 'weight loss': 0.5396448702630379, 'restlessness': 0.6912916965101313, 'lethargy': 0.6960115978200132, 'patches in throat': 0.3963107483231128, 'irregular sugar level': 0.4887008754404888, 'cough': 0.4366632823185475, 'high fever': 0.533304074676246, 'sunken eyes': 0.2651956351913496, 'breathlessness': 0.6960115978200132, 'sweating': 0.5904352999200408, 'dehydration': 0.5760199780192419, 'indigestion': 0.6960115978200132, 'headache': 0.6606543992046725, 'yellowish skin': 0.38188283116886296, 'dark urine': 0.37984367556637205, 'nausea': 0.6960115978200132, 'loss of appetite': 0.5555686239791332, 'pain behind the eyes': 0.4458036770162998, 'back pain': 0.5598856741683502, 'constipation': 0.5685620457534251, 'abdominal pain': 0.6307885304779616, 'diarrhoea': 0.5685620457534251, 'mild fever': 0.5858639626729336, 'yellow urine': 0.33199922417273464, 'yellowing of eyes': 0.37184677670117816, 'acute liver failure': 0.5755567958219371, 'fluid overload': 0.4809511058616295, 'swelling of stomach': 0.5883432825705923, 'swelled lymph nodes': 0.40738588374694845, 'malaise': 0.4754881624986523, 'blurred and distorted vision': 0.4266122639640681, 'phlegm': 0.47712124477422707, 'throat irritation': 0.5461876762686159, 'redness of eyes': 0.49061741317160756, 'sinus pressure': 0.6888771444087477, 'runny nose': 0.42626239963149654, 'congestion': 0.5369507731156304, 'chest pain': 0.5839155627192321, 'weakness in limbs': 0.5307876192674748, 'fast heart rate': 0.3733990563341201, 'pain during bowel movements': 0.5959942047504726, 'pain in anal region': 0.40758426381117774, 'bloody stool': 0.3493622646398591, 'irritation in anus': 0.4353813900878549, 'neck pain': 0.5792311007853913, 'dizziness': 0.6960115978200132, 'cramps': 0.651663913031465, 'bruising': 0.38793971088541673, 'obesity': 0.44500082333999813, 'swollen legs': 0.46329720059513985, 'swollen blood vessels': 0.45578161119071714, 'puffy face and eyes': 0.3208641656502395, 'enlarged thyroid': 0.5177326358985577, 'brittle nails': 0.3189357621850481, 'swollen extremeties': 0.46280315340257705, 'excessive hunger': 0.5833023411774139, 'extra marital contacts': 0.2553611673913385, 'drying and tingling lips': 0.4383929494827175, 'slurred speech': 0.44507813867871, 'knee pain': 0.5887848200922129, 'hip joint pain': 0.5357899892224376, 'muscle weakness': 0.6418227216420247, 'stiff neck': 0.4310520649018504, 'swelling joints': 0.5979275145665462, 'movement stiffness': 0.8177219463941569, 'spinning movements': 0.3341090086876345, 'loss of balance': 0.4853078505531558, 'unsteadiness': 0.6960115978200132, 'weakness of one body side': 0.48737029993654274, 'loss of smell': 0.4497827831722565, 'bladder discomfort': 0.6225014019879953, 'foul smell ofurine': 0.24641930465954245, 'continuous feel of urine': 0.5021159717042964, 'passage of gases': 0.2687377934590228, 'internal itching': 0.5158315779265585, 'toxic look (typhos)': 0.23494622452674152, 'depression': 0.6255456645909856, 'irritability': 0.6912916965101313, 'muscle pain': 0.6572982567033623, 'altered sensorium': 0.48887265850398587, 'red spots over body': 0.3680811564258638, 'belly pain': 0.5403503114067467, 'abnormal menstruation': 0.6861410185426745, 'dischromic patches': 0.260564103314936, 'watering from eyes': 0.2932706786210782, 'increased appetite': 0.5745250353489351, 'polyuria': 0.5760199780192419, 'family history': 0.14482576846400452, 'mucoid sputum': 0.3713538323089261, 'rusty sputum': 0.3652509029564845, 'lack of concentration': 0.4575389570383787, 'visual disturbances': 0.5367162128829506, 'receiving blood transfusion': 0.37611111764621935, 'receiving unsterile injections': 0.2657866361899132, 'coma': 0.3982633279372369, 'stomach bleeding': 0.5331768319295787, 'distention of abdomen': 0.5968152309401894, 'history of alcohol consumption': 0.39531435387986064, 'blood in sputum': 0.41773578145687673, 'prominent veins on calf': 0.356123308392229, 'palpitations': 0.6960115978200132, 'painful walking': 0.4586386174617751, 'pus filled pimples': 0.44804484699596925, 'blackheads': 0.3591566322654096, 'scurring': 0.0, 'skin peeling': 0.4031168694265685, 'silver like dusting': 0.2339878034766445, 'small dents in nails': 0.2731928663852929, 'inflammatory nails': 0.41475565884299576, 'blister': 0.5598989444925634, 'red sore around nose': 0.42144227780060345, 'yellow crust ooze': 0.19799251067343238, 'prognosis': 0.4446224849240313}\n",
      "Closest matching symptom : fatigue\n"
     ]
    },
    {
     "name": "stderr",
     "output_type": "stream",
     "text": [
      "C:\\Users\\SHREYA~1\\AppData\\Local\\Temp/ipykernel_9044/2593234594.py:4: UserWarning: [W008] Evaluating Doc.similarity based on empty vectors.\n",
      "  similarities[symptom] = nlp(text).similarity(nlp(symptom))\n"
     ]
    }
   ],
   "source": [
    "text = input(\"Enter symptom: \")\n",
    "similarities = {}\n",
    "for symptom in df['Symptom'].values:\n",
    "    similarities[symptom] = nlp(text).similarity(nlp(symptom))\n",
    "print(similarities)\n",
    "keymax = \"No matching symptom found!\" if max(similarities.values()) == 0 else max(similarities, key= lambda x: similarities[x])\n",
    "print(\"Closest matching symptom : \" + str(keymax))"
   ]
  },
  {
   "cell_type": "code",
   "execution_count": 4,
   "id": "a1120e6e",
   "metadata": {},
   "outputs": [
    {
     "name": "stderr",
     "output_type": "stream",
     "text": [
      "C:\\Users\\SHREYA~1\\AppData\\Local\\Temp/ipykernel_1480/3201679974.py:3: UserWarning: [W007] The model you're using has no word vectors loaded, so the result of the Doc.similarity method will be based on the tagger, parser and NER, which may not give useful similarity judgements. This may happen if you're using one of the small models, e.g. `en_core_web_sm`, which don't ship with word vectors and only use context-sensitive tensors. You can always add your own word vectors, or use one of the larger models instead if available.\n",
      "  nlp(t1).similarity(nlp(t2))\n",
      "C:\\Users\\SHREYA~1\\AppData\\Local\\Temp/ipykernel_1480/3201679974.py:3: UserWarning: [W008] Evaluating Doc.similarity based on empty vectors.\n",
      "  nlp(t1).similarity(nlp(t2))\n"
     ]
    },
    {
     "data": {
      "text/plain": [
       "0.0"
      ]
     },
     "execution_count": 4,
     "metadata": {},
     "output_type": "execute_result"
    }
   ],
   "source": [
    "t1 = 'headache'\n",
    "t2 = 'pain'\n",
    "nlp(t1).similarity(nlp(t2))"
   ]
  },
  {
   "cell_type": "code",
   "execution_count": 90,
   "id": "db90d9ec",
   "metadata": {},
   "outputs": [],
   "source": [
    "rando = {'itching': 0.0, 'skin rash': 0.0, 'nodal skin eruptions': 0.0, 'continuous sneezing': 0.0, 'shivering': 0.0, 'chills': 0.0, 'joint pain': 0.0, 'stomach pain': 0.0, 'acidity': 0.0, 'ulcers on tongue': 0.0, 'muscle wasting': 0.0, 'vomiting': 0.0, 'burning micturition': 0.0, 'spotting urination': 0.0, 'fatigue': 0.0, 'weight gain': 0.0, 'anxiety': 0.0, 'cold hands and feets': 0.0, 'mood swings': 0.0, 'weight loss': 0.0, 'restlessness': 0.0, 'lethargy': 0.0, 'patches in throat': 0.0, 'irregular sugar level': 0.0, 'cough': 0.0, 'high fever': 0.0, 'sunken eyes': 0.0, 'breathlessness': 0.0, 'sweating': 0.0, 'dehydration': 0.0, 'indigestion': 0.0, 'headache': 0.0, 'yellowish skin': 0.0, 'dark urine': 0.0, 'nausea': 0.0, 'loss of appetite': 0.0, 'pain behind the eyes': 0.0, 'back pain': 0.0, 'constipation': 0.0, 'abdominal pain': 0.0, 'diarrhoea': 0.0, 'mild fever': 0.0, 'yellow urine': 0.0, 'yellowing of eyes': 0.0, 'acute liver failure': 0.0, 'fluid overload': 0.0, 'swelling of stomach': 0.0, 'swelled lymph nodes': 0.0, 'malaise': 0.0, 'blurred and distorted vision': 0.0, 'phlegm': 0.0, 'throat irritation': 0.0, 'redness of eyes': 0.0, 'sinus pressure': 0.0, 'runny nose': 0.0, 'congestion': 0.0, 'chest pain': 0.0, 'weakness in limbs': 0.0, 'fast heart rate': 0.0, 'pain during bowel movements': 0.0, 'pain in anal region': 0.0, 'bloody stool': 0.0, 'irritation in anus': 0.0, 'neck pain': 0.0, 'dizziness': 0.0, 'cramps': 0.0, 'bruising': 0.0, 'obesity': 0.0, 'swollen legs': 0.0, 'swollen blood vessels': 0.0, 'puffy face and eyes': 0.0, 'enlarged thyroid': 0.0, 'brittle nails': 0.0, 'swollen extremeties': 0.0, 'excessive hunger': 0.0, 'extra marital contacts': 0.0, 'drying and tingling lips': 0.0, 'slurred speech': 0.0, 'knee pain': 0.0, 'hip joint pain': 0.0, 'muscle weakness': 0.0, 'stiff neck': 0.0, 'swelling joints': 0.0, 'movement stiffness': 0.0, 'spinning movements': 0.0, 'loss of balance': 0.0, 'unsteadiness': 0.0, 'weakness of one body side': 0.0, 'loss of smell': 0.0, 'bladder discomfort': 0.0, 'foul smell ofurine': 0.0, 'continuous feel of urine': 0.0, 'passage of gases': 0.0, 'internal itching': 0.0, 'toxic look (typhos)': 0.0, 'depression': 0.0, 'irritability': 0.0, 'muscle pain': 0.0, 'altered sensorium': 0.0, 'red spots over body': 0.0, 'belly pain': 0.0, 'abnormal menstruation': 0.0, 'dischromic patches': 0.0, 'watering from eyes': 0.0, 'increased appetite': 0.0, 'polyuria': 0.0, 'family history': 0.0, 'mucoid sputum': 0.0, 'rusty sputum': 0.0, 'lack of concentration': 0.0, 'visual disturbances': 0.0, 'receiving blood transfusion': 0.0, 'receiving unsterile injections': 0.0, 'coma': 0.0, 'stomach bleeding': 0.0, 'distention of abdomen': 0.0, 'history of alcohol consumption': 0.0, 'blood in sputum': 0.0, 'prominent veins on calf': 0.0, 'palpitations': 0.0, 'painful walking': 0.0, 'pus filled pimples': 0.0, 'blackheads': 0.0, 'scurring': 0.0, 'skin peeling': 0.0, 'silver like dusting': 0.0, 'small dents in nails': 0.0, 'inflammatory nails': 0.0, 'blister': 0.0, 'red sore around nose': 0.0, 'yellow crust ooze': 0.0, 'prognosis': 0.0}"
   ]
  },
  {
   "cell_type": "code",
   "execution_count": 94,
   "id": "5b51f5fb",
   "metadata": {},
   "outputs": [
    {
     "data": {
      "text/plain": [
       "0.0"
      ]
     },
     "execution_count": 94,
     "metadata": {},
     "output_type": "execute_result"
    }
   ],
   "source": [
    "max(rando.values())"
   ]
  },
  {
   "cell_type": "code",
   "execution_count": 55,
   "id": "49e6d572",
   "metadata": {},
   "outputs": [],
   "source": [
    "df = pd.read_csv(\"Database/Symptom-severity.csv\")\n",
    "df['Symptom'] = df['Symptom'].str.replace(' ','')\n",
    "df['Symptom'] = df['Symptom'].str.replace('_',' ')"
   ]
  },
  {
   "cell_type": "code",
   "execution_count": 64,
   "id": "e7565f88",
   "metadata": {},
   "outputs": [],
   "source": [
    "def order(symptom_code):\n",
    "    symptom_name = list(codes.keys())[list(codes.values()).index(symptom_code)]\n",
    "    symptom_name = symptom_name.replace(' ','').replace('_',' ')\n",
    "    weight = int(df[df['Symptom'] == symptom_name]['weight'])\n",
    "    return weight"
   ]
  },
  {
   "cell_type": "code",
   "execution_count": 65,
   "id": "ef8653c3",
   "metadata": {
    "scrolled": true
   },
   "outputs": [
    {
     "data": {
      "text/plain": [
       "6"
      ]
     },
     "execution_count": 65,
     "metadata": {},
     "output_type": "execute_result"
    }
   ],
   "source": [
    "order(103)"
   ]
  },
  {
   "cell_type": "code",
   "execution_count": 54,
   "id": "24f9d186",
   "metadata": {},
   "outputs": [
    {
     "ename": "KeyError",
     "evalue": "'Symptom'",
     "output_type": "error",
     "traceback": [
      "\u001b[1;31m---------------------------------------------------------------------------\u001b[0m",
      "\u001b[1;31mKeyError\u001b[0m                                  Traceback (most recent call last)",
      "File \u001b[1;32mC:\\Anaconda\\lib\\site-packages\\pandas\\core\\indexes\\base.py:3621\u001b[0m, in \u001b[0;36mIndex.get_loc\u001b[1;34m(self, key, method, tolerance)\u001b[0m\n\u001b[0;32m   3620\u001b[0m \u001b[38;5;28;01mtry\u001b[39;00m:\n\u001b[1;32m-> 3621\u001b[0m     \u001b[38;5;28;01mreturn\u001b[39;00m \u001b[38;5;28;43mself\u001b[39;49m\u001b[38;5;241;43m.\u001b[39;49m\u001b[43m_engine\u001b[49m\u001b[38;5;241;43m.\u001b[39;49m\u001b[43mget_loc\u001b[49m\u001b[43m(\u001b[49m\u001b[43mcasted_key\u001b[49m\u001b[43m)\u001b[49m\n\u001b[0;32m   3622\u001b[0m \u001b[38;5;28;01mexcept\u001b[39;00m \u001b[38;5;167;01mKeyError\u001b[39;00m \u001b[38;5;28;01mas\u001b[39;00m err:\n",
      "File \u001b[1;32mC:\\Anaconda\\lib\\site-packages\\pandas\\_libs\\index.pyx:136\u001b[0m, in \u001b[0;36mpandas._libs.index.IndexEngine.get_loc\u001b[1;34m()\u001b[0m\n",
      "File \u001b[1;32mC:\\Anaconda\\lib\\site-packages\\pandas\\_libs\\index.pyx:163\u001b[0m, in \u001b[0;36mpandas._libs.index.IndexEngine.get_loc\u001b[1;34m()\u001b[0m\n",
      "File \u001b[1;32mpandas\\_libs\\hashtable_class_helper.pxi:5198\u001b[0m, in \u001b[0;36mpandas._libs.hashtable.PyObjectHashTable.get_item\u001b[1;34m()\u001b[0m\n",
      "File \u001b[1;32mpandas\\_libs\\hashtable_class_helper.pxi:5206\u001b[0m, in \u001b[0;36mpandas._libs.hashtable.PyObjectHashTable.get_item\u001b[1;34m()\u001b[0m\n",
      "\u001b[1;31mKeyError\u001b[0m: 'Symptom'",
      "\nThe above exception was the direct cause of the following exception:\n",
      "\u001b[1;31mKeyError\u001b[0m                                  Traceback (most recent call last)",
      "Input \u001b[1;32mIn [54]\u001b[0m, in \u001b[0;36m<cell line: 1>\u001b[1;34m()\u001b[0m\n\u001b[1;32m----> 1\u001b[0m \u001b[43mdf\u001b[49m\u001b[43m[\u001b[49m\u001b[38;5;124;43m'\u001b[39;49m\u001b[38;5;124;43mSymptom\u001b[39;49m\u001b[38;5;124;43m'\u001b[39;49m\u001b[43m]\u001b[49m\n",
      "File \u001b[1;32mC:\\Anaconda\\lib\\site-packages\\pandas\\core\\frame.py:3505\u001b[0m, in \u001b[0;36mDataFrame.__getitem__\u001b[1;34m(self, key)\u001b[0m\n\u001b[0;32m   3503\u001b[0m \u001b[38;5;28;01mif\u001b[39;00m \u001b[38;5;28mself\u001b[39m\u001b[38;5;241m.\u001b[39mcolumns\u001b[38;5;241m.\u001b[39mnlevels \u001b[38;5;241m>\u001b[39m \u001b[38;5;241m1\u001b[39m:\n\u001b[0;32m   3504\u001b[0m     \u001b[38;5;28;01mreturn\u001b[39;00m \u001b[38;5;28mself\u001b[39m\u001b[38;5;241m.\u001b[39m_getitem_multilevel(key)\n\u001b[1;32m-> 3505\u001b[0m indexer \u001b[38;5;241m=\u001b[39m \u001b[38;5;28;43mself\u001b[39;49m\u001b[38;5;241;43m.\u001b[39;49m\u001b[43mcolumns\u001b[49m\u001b[38;5;241;43m.\u001b[39;49m\u001b[43mget_loc\u001b[49m\u001b[43m(\u001b[49m\u001b[43mkey\u001b[49m\u001b[43m)\u001b[49m\n\u001b[0;32m   3506\u001b[0m \u001b[38;5;28;01mif\u001b[39;00m is_integer(indexer):\n\u001b[0;32m   3507\u001b[0m     indexer \u001b[38;5;241m=\u001b[39m [indexer]\n",
      "File \u001b[1;32mC:\\Anaconda\\lib\\site-packages\\pandas\\core\\indexes\\base.py:3623\u001b[0m, in \u001b[0;36mIndex.get_loc\u001b[1;34m(self, key, method, tolerance)\u001b[0m\n\u001b[0;32m   3621\u001b[0m     \u001b[38;5;28;01mreturn\u001b[39;00m \u001b[38;5;28mself\u001b[39m\u001b[38;5;241m.\u001b[39m_engine\u001b[38;5;241m.\u001b[39mget_loc(casted_key)\n\u001b[0;32m   3622\u001b[0m \u001b[38;5;28;01mexcept\u001b[39;00m \u001b[38;5;167;01mKeyError\u001b[39;00m \u001b[38;5;28;01mas\u001b[39;00m err:\n\u001b[1;32m-> 3623\u001b[0m     \u001b[38;5;28;01mraise\u001b[39;00m \u001b[38;5;167;01mKeyError\u001b[39;00m(key) \u001b[38;5;28;01mfrom\u001b[39;00m \u001b[38;5;21;01merr\u001b[39;00m\n\u001b[0;32m   3624\u001b[0m \u001b[38;5;28;01mexcept\u001b[39;00m \u001b[38;5;167;01mTypeError\u001b[39;00m:\n\u001b[0;32m   3625\u001b[0m     \u001b[38;5;66;03m# If we have a listlike key, _check_indexing_error will raise\u001b[39;00m\n\u001b[0;32m   3626\u001b[0m     \u001b[38;5;66;03m#  InvalidIndexError. Otherwise we fall through and re-raise\u001b[39;00m\n\u001b[0;32m   3627\u001b[0m     \u001b[38;5;66;03m#  the TypeError.\u001b[39;00m\n\u001b[0;32m   3628\u001b[0m     \u001b[38;5;28mself\u001b[39m\u001b[38;5;241m.\u001b[39m_check_indexing_error(key)\n",
      "\u001b[1;31mKeyError\u001b[0m: 'Symptom'"
     ]
    }
   ],
   "source": [
    "df['Symptom']"
   ]
  },
  {
   "cell_type": "markdown",
   "id": "ad0678e6",
   "metadata": {},
   "source": [
    "## Testing early stopping"
   ]
  },
  {
   "cell_type": "code",
   "execution_count": null,
   "id": "0abdaa2f",
   "metadata": {},
   "outputs": [],
   "source": [
    "esdt = DecisionTreeClassifier(max_depth=10)"
   ]
  },
  {
   "cell_type": "code",
   "execution_count": null,
   "id": "45ee5fd9",
   "metadata": {},
   "outputs": [],
   "source": [
    "esdt.fit(X_train,y_train)"
   ]
  },
  {
   "cell_type": "code",
   "execution_count": null,
   "id": "9c6151a0",
   "metadata": {},
   "outputs": [],
   "source": [
    "predictions = esdt.predict(X_test)"
   ]
  },
  {
   "cell_type": "code",
   "execution_count": null,
   "id": "cc43e3b5",
   "metadata": {},
   "outputs": [],
   "source": [
    "from sklearn.metrics import classification_report,confusion_matrix"
   ]
  },
  {
   "cell_type": "code",
   "execution_count": null,
   "id": "329c69ac",
   "metadata": {},
   "outputs": [],
   "source": [
    "print(classification_report(y_test,predictions))"
   ]
  },
  {
   "cell_type": "code",
   "execution_count": null,
   "id": "205adf4f",
   "metadata": {},
   "outputs": [],
   "source": [
    "from sklearn.ensemble import RandomForestClassifier\n",
    "rfc = RandomForestClassifier(n_estimators=100)\n",
    "rfc.fit(X_train, y_train)\n",
    "rfc_pred = rfc.predict(X_test)\n",
    "print(confusion_matrix(y_test,rfc_pred))\n",
    "print(classification_report(y_test,rfc_pred))"
   ]
  }
 ],
 "metadata": {
  "kernelspec": {
   "display_name": "Python 3 (ipykernel)",
   "language": "python",
   "name": "python3"
  },
  "language_info": {
   "codemirror_mode": {
    "name": "ipython",
    "version": 3
   },
   "file_extension": ".py",
   "mimetype": "text/x-python",
   "name": "python",
   "nbconvert_exporter": "python",
   "pygments_lexer": "ipython3",
   "version": "3.9.7"
  }
 },
 "nbformat": 4,
 "nbformat_minor": 5
}
